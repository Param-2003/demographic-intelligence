{
 "cells": [
  {
   "cell_type": "code",
   "execution_count": 1,
   "id": "e6ab5436-101a-496a-a400-e0a2dfb40630",
   "metadata": {},
   "outputs": [],
   "source": [
    "import os\n",
    "import sys\n",
    "\n",
    "os.environ[\"HADOOP_HOME\"] = \"C:\\\\hadoop\"\n",
    "os.environ[\"PATH\"] += os.pathsep + \"C:\\\\hadoop\\\\bin\"\n",
    "\n",
    "# Set python executable path\n",
    "os.environ[\"PYSPARK_PYTHON\"] = sys.executable\n",
    "os.environ[\"PYSPARK_DRIVER_PYTHON\"] = sys.executable"
   ]
  },
  {
   "cell_type": "code",
   "execution_count": 2,
   "id": "7100bc58-41fc-497f-9160-d08d6e51a057",
   "metadata": {},
   "outputs": [],
   "source": [
    "import pandas as pd\n",
    "import seaborn as sns\n",
    "import matplotlib.pyplot as plt\n",
    "from pyspark.sql import SparkSession\n",
    "from pyspark.sql.functions import col, month, when\n",
    "from pyspark.sql.types import StructType , StructField , StringType , IntegerType , FloatType\n",
    "from datetime import datetime\n"
   ]
  },
  {
   "cell_type": "code",
   "execution_count": 3,
   "id": "09be6c74-c539-47e1-a31e-fc8940e0b328",
   "metadata": {},
   "outputs": [],
   "source": [
    "spark = SparkSession.builder.appName(\"Migration-project\").getOrCreate()"
   ]
  },
  {
   "cell_type": "code",
   "execution_count": 4,
   "id": "192a2b24-ec50-4fd6-96e7-8b3257114a36",
   "metadata": {},
   "outputs": [
    {
     "data": {
      "text/html": [
       "\n",
       "            <div>\n",
       "                <p><b>SparkSession - in-memory</b></p>\n",
       "                \n",
       "        <div>\n",
       "            <p><b>SparkContext</b></p>\n",
       "\n",
       "            <p><a href=\"http://host.docker.internal:4040\">Spark UI</a></p>\n",
       "\n",
       "            <dl>\n",
       "              <dt>Version</dt>\n",
       "                <dd><code>v3.5.1</code></dd>\n",
       "              <dt>Master</dt>\n",
       "                <dd><code>local[*]</code></dd>\n",
       "              <dt>AppName</dt>\n",
       "                <dd><code>Migration-project</code></dd>\n",
       "            </dl>\n",
       "        </div>\n",
       "        \n",
       "            </div>\n",
       "        "
      ],
      "text/plain": [
       "<pyspark.sql.session.SparkSession at 0x19dd9759ab0>"
      ]
     },
     "execution_count": 4,
     "metadata": {},
     "output_type": "execute_result"
    }
   ],
   "source": [
    "spark"
   ]
  },
  {
   "cell_type": "code",
   "execution_count": 5,
   "id": "f5e76daa-8c9c-43d7-8096-6d9ba6c9a0f5",
   "metadata": {},
   "outputs": [],
   "source": [
    "Migration_data = (\"indiaSummary.csv\")"
   ]
  },
  {
   "cell_type": "code",
   "execution_count": 6,
   "id": "257a05f0-e93d-45a1-83a5-0be53e24dc7e",
   "metadata": {},
   "outputs": [
    {
     "name": "stdout",
     "output_type": "stream",
     "text": [
      "+----------+-----+--------+---------+--------------------+---------------+--------------------+----------------------+--------------------+----------------------+--------------------------+------------------------+--------------------------+----------------------------+--------------------------+----------------------------+---------------------------+--------------------------+----------------------------+------------------------------+----------------------------+------------------------------+---------------------------+--------------------+----------------------------+-----------------------------+---------------------------+-----------------------------+\n",
      "|Table name|State|District|Area Name|     Last residence4|Last residence5|Place of enumeration|Total migrants-Persons|Total migrants-Males|Total migrants-Females|Duration (<1 year)-Persons|Duration (<1 year)-Males|Duration (<1 year)-Females|Duration (1-4 years)-Persons|Duration (1-4 years)-Males|Duration (1-4 years)-Females|Duration(5-9 years)-Persons|Duration (5-9 years)-Males|Duration (5-9 years)-Females|Duration (10-19 years)-Persons|Duration (10-19 years)-Males|Duration (10-19 years)-Females|Duration(20+ years)-Persons|Duration (20+) Males|Duration (20+ years)-Females|Duration (not stated)-Persons|Duration (not stated)-Males|Duration (not stated)-Females|\n",
      "+----------+-----+--------+---------+--------------------+---------------+--------------------+----------------------+--------------------+----------------------+--------------------------+------------------------+--------------------------+----------------------------+--------------------------+----------------------------+---------------------------+--------------------------+----------------------------+------------------------------+----------------------------+------------------------------+---------------------------+--------------------+----------------------------+-----------------------------+---------------------------+-----------------------------+\n",
      "|     D0302|    0|       0|    INDIA|               Total|          Total|               Total|             455787621|           146145967|             309641654|                  17586044|                 7805017|                   9781027|                    63893251|                  21283776|                    42609475|                   60428975|                  18425569|                    42003406|                      94713188|                    25979400|                      68733788|                  146421501|            35148111|                   111273390|                     72744662|                   37504094|                     35240568|\n",
      "|     D0302|    0|       0|    INDIA|               Total|          Total|               Rural|             278203361|            64703974|             213499387|                   9786106|                 3916525|                   5869581|                    34944291|                   8139533|                    26804758|                   34511589|                   6876803|                    27634786|                      57728193|                     9894435|                      47833758|                   98989422|            14186384|                    84803038|                     42243760|                   21690294|                     20553466|\n",
      "|     D0302|    0|       0|    INDIA|               Total|          Total|               Urban|             177584260|            81441993|              96142267|                   7799938|                 3888492|                   3911446|                    28948960|                  13144243|                    15804717|                   25917386|                  11548766|                    14368620|                      36984995|                    16084965|                      20900030|                   47432079|            20961727|                    26470352|                     30500902|                   15813800|                     14687102|\n",
      "|     D0302|    0|       0|    INDIA|Last residence wi...|          Total|               Total|             449917418|           143467652|             306449766|                  17366706|                 7676760|                   9689946|                    63340666|                  21044225|                    42296441|                   59953065|                  18239698|                    41713367|                      93880994|                    25665354|                      68215640|                  143269910|            33680536|                   109589374|                     72106077|                   37161079|                     34944998|\n",
      "|     D0302|    0|       0|    INDIA|Last residence wi...|          Total|               Rural|             275416210|            63588085|             211828125|                   9685689|                 3856920|                   5828769|                    34716308|                   8063533|                    26652775|                   34294890|                   6816901|                    27477989|                      57311368|                     9778290|                      47533078|                   97476022|            13554521|                    83921501|                     41931933|                   21517920|                     20414013|\n",
      "+----------+-----+--------+---------+--------------------+---------------+--------------------+----------------------+--------------------+----------------------+--------------------------+------------------------+--------------------------+----------------------------+--------------------------+----------------------------+---------------------------+--------------------------+----------------------------+------------------------------+----------------------------+------------------------------+---------------------------+--------------------+----------------------------+-----------------------------+---------------------------+-----------------------------+\n",
      "only showing top 5 rows\n",
      "\n",
      "root\n",
      " |-- Table name: string (nullable = true)\n",
      " |-- State: integer (nullable = true)\n",
      " |-- District: integer (nullable = true)\n",
      " |-- Area Name: string (nullable = true)\n",
      " |-- Last residence4: string (nullable = true)\n",
      " |-- Last residence5: string (nullable = true)\n",
      " |-- Place of enumeration: string (nullable = true)\n",
      " |-- Total migrants-Persons: integer (nullable = true)\n",
      " |-- Total migrants-Males: integer (nullable = true)\n",
      " |-- Total migrants-Females: integer (nullable = true)\n",
      " |-- Duration (<1 year)-Persons: integer (nullable = true)\n",
      " |-- Duration (<1 year)-Males: integer (nullable = true)\n",
      " |-- Duration (<1 year)-Females: integer (nullable = true)\n",
      " |-- Duration (1-4 years)-Persons: integer (nullable = true)\n",
      " |-- Duration (1-4 years)-Males: integer (nullable = true)\n",
      " |-- Duration (1-4 years)-Females: integer (nullable = true)\n",
      " |-- Duration(5-9 years)-Persons: integer (nullable = true)\n",
      " |-- Duration (5-9 years)-Males: integer (nullable = true)\n",
      " |-- Duration (5-9 years)-Females: integer (nullable = true)\n",
      " |-- Duration (10-19 years)-Persons: integer (nullable = true)\n",
      " |-- Duration (10-19 years)-Males: integer (nullable = true)\n",
      " |-- Duration (10-19 years)-Females: integer (nullable = true)\n",
      " |-- Duration(20+ years)-Persons: integer (nullable = true)\n",
      " |-- Duration (20+) Males: integer (nullable = true)\n",
      " |-- Duration (20+ years)-Females: integer (nullable = true)\n",
      " |-- Duration (not stated)-Persons: integer (nullable = true)\n",
      " |-- Duration (not stated)-Males: integer (nullable = true)\n",
      " |-- Duration (not stated)-Females: integer (nullable = true)\n",
      "\n"
     ]
    }
   ],
   "source": [
    "Migration_df = spark.read.csv(Migration_data,header = True,inferSchema = True)\n",
    "Migration_df.show(5)\n",
    "Migration_df.printSchema()"
   ]
  },
  {
   "cell_type": "code",
   "execution_count": 7,
   "id": "995940fd-feba-420a-aecb-fa75e4d71aa0",
   "metadata": {},
   "outputs": [
    {
     "name": "stdout",
     "output_type": "stream",
     "text": [
      "+---------+--------------------+---------------+--------------------+----------------------+--------------------+----------------------+\n",
      "|Area Name|     Last residence4|Last residence5|Place of enumeration|Total migrants-Persons|Total migrants-Males|Total migrants-Females|\n",
      "+---------+--------------------+---------------+--------------------+----------------------+--------------------+----------------------+\n",
      "|    INDIA|               Total|          Total|               Total|             455787621|           146145967|             309641654|\n",
      "|    INDIA|               Total|          Total|               Rural|             278203361|            64703974|             213499387|\n",
      "|    INDIA|               Total|          Total|               Urban|             177584260|            81441993|              96142267|\n",
      "|    INDIA|Last residence wi...|          Total|               Total|             449917418|           143467652|             306449766|\n",
      "|    INDIA|Last residence wi...|          Total|               Rural|             275416210|            63588085|             211828125|\n",
      "|    INDIA|Last residence wi...|          Total|               Urban|             174501208|            79879567|              94621641|\n",
      "|    INDIA|Last residence wi...|          Rural|               Total|             291960709|            72214492|             219746217|\n",
      "|    INDIA|Last residence wi...|          Rural|               Rural|             213759232|            36841723|             176917509|\n",
      "|    INDIA|Last residence wi...|          Rural|               Urban|              78201477|            35372769|              42828708|\n",
      "|    INDIA|Last residence wi...|          Urban|               Total|             105075338|            45334257|              59741081|\n",
      "+---------+--------------------+---------------+--------------------+----------------------+--------------------+----------------------+\n",
      "only showing top 10 rows\n",
      "\n",
      "root\n",
      " |-- Area Name: string (nullable = true)\n",
      " |-- Last residence4: string (nullable = true)\n",
      " |-- Last residence5: string (nullable = true)\n",
      " |-- Place of enumeration: string (nullable = true)\n",
      " |-- Total migrants-Persons: integer (nullable = true)\n",
      " |-- Total migrants-Males: integer (nullable = true)\n",
      " |-- Total migrants-Females: integer (nullable = true)\n",
      "\n"
     ]
    }
   ],
   "source": [
    "duration_columns_to_remove = [\n",
    "    \"Duration (<1 year)-Persons\", \n",
    "    \"Duration (<1 year)-Males\",\n",
    "    \"Duration (<1 year)-Females\",\n",
    "    \"Duration (1-4 years)-Persons\",\n",
    "    \"Duration (1-4 years)-Males\",\n",
    "    \"Duration (1-4 years)-Females\",\n",
    "    \"Duration(5-9 years)-Persons\",\n",
    "    \"Duration (5-9 years)-Males\",\n",
    "    \"Duration (5-9 years)-Females\",\n",
    "    \"Duration (10-19 years)-Persons\",\n",
    "    \"Duration (10-19 years)-Males\",\n",
    "    \"Duration (10-19 years)-Females\",\n",
    "    \"Duration(20+ years)-Persons\",\n",
    "    \"Duration (20+) Males\",\n",
    "    \"Duration (20+ years)-Females\",\n",
    "    \"Duration (not stated)-Persons\",\n",
    "    \"Duration (not stated)-Males\",\n",
    "    \"Table name\",\n",
    "    \"State\",\n",
    "    \"District\",\n",
    "    \"Duration (not stated)-Females\"\n",
    "]\n",
    "data_df = Migration_df.drop(*duration_columns_to_remove)\n",
    "data_df.show(10)\n",
    "data_df.printSchema()"
   ]
  },
  {
   "cell_type": "code",
   "execution_count": 8,
   "id": "f484129b-3133-4058-8057-be473335f0bb",
   "metadata": {},
   "outputs": [
    {
     "name": "stdout",
     "output_type": "stream",
     "text": [
      "+---------+-----------------------+------------------------+--------------------+----------------------+--------------------+----------------------+\n",
      "|Area_Name|Last_Place_of_residence|Number_of_Last_residence|Place of enumeration|Total migrants-Persons|Total migrants-Males|Total migrants-Females|\n",
      "+---------+-----------------------+------------------------+--------------------+----------------------+--------------------+----------------------+\n",
      "|    INDIA|                  Total|                   Total|               Total|             455787621|           146145967|             309641654|\n",
      "|    INDIA|                  Total|                   Total|               Rural|             278203361|            64703974|             213499387|\n",
      "|    INDIA|                  Total|                   Total|               Urban|             177584260|            81441993|              96142267|\n",
      "|    INDIA|   Last residence wi...|                   Total|               Total|             449917418|           143467652|             306449766|\n",
      "|    INDIA|   Last residence wi...|                   Total|               Rural|             275416210|            63588085|             211828125|\n",
      "|    INDIA|   Last residence wi...|                   Total|               Urban|             174501208|            79879567|              94621641|\n",
      "|    INDIA|   Last residence wi...|                   Rural|               Total|             291960709|            72214492|             219746217|\n",
      "|    INDIA|   Last residence wi...|                   Rural|               Rural|             213759232|            36841723|             176917509|\n",
      "|    INDIA|   Last residence wi...|                   Rural|               Urban|              78201477|            35372769|              42828708|\n",
      "|    INDIA|   Last residence wi...|                   Urban|               Total|             105075338|            45334257|              59741081|\n",
      "+---------+-----------------------+------------------------+--------------------+----------------------+--------------------+----------------------+\n",
      "only showing top 10 rows\n",
      "\n",
      "root\n",
      " |-- Area_Name: string (nullable = true)\n",
      " |-- Last_Place_of_residence: string (nullable = true)\n",
      " |-- Number_of_Last_residence: string (nullable = true)\n",
      " |-- Place of enumeration: string (nullable = true)\n",
      " |-- Total migrants-Persons: integer (nullable = true)\n",
      " |-- Total migrants-Males: integer (nullable = true)\n",
      " |-- Total migrants-Females: integer (nullable = true)\n",
      "\n"
     ]
    }
   ],
   "source": [
    "data_df = data_df.withColumnRenamed(\"Last residence4\", \"Last_Place_of_residence\") \\\n",
    "       .withColumnRenamed(\"Last residence5\", \"Number_of_Last_residence\").withColumnRenamed(\"Area Name\" , \"Area_Name\")\n",
    "data_df.show(10)\n",
    "data_df.printSchema()"
   ]
  },
  {
   "cell_type": "code",
   "execution_count": 9,
   "id": "3010a7a5-9372-4144-a7be-6db3282fef34",
   "metadata": {},
   "outputs": [
    {
     "name": "stdout",
     "output_type": "stream",
     "text": [
      "+---------+\n",
      "|Area_Name|\n",
      "+---------+\n",
      "|    INDIA|\n",
      "+---------+\n",
      "\n"
     ]
    }
   ],
   "source": [
    "non_india_areas = data_df.filter(data_df.Area_Name != \"India\").select(\"Area_Name\").distinct()\n",
    "\n",
    "# Show the results\n",
    "non_india_areas.show()"
   ]
  },
  {
   "cell_type": "markdown",
   "id": "1250a463-510d-4900-8368-7c20fad943c1",
   "metadata": {},
   "source": [
    "That implies we don't need Area_Name too "
   ]
  },
  {
   "cell_type": "code",
   "execution_count": 10,
   "id": "60f2fa6f-806e-4bee-88c9-d7301c3fdc57",
   "metadata": {},
   "outputs": [
    {
     "name": "stdout",
     "output_type": "stream",
     "text": [
      "+-----------------------+------------------------+--------------------+----------------------+--------------------+----------------------+\n",
      "|Last_Place_of_residence|Number_of_Last_residence|Place of enumeration|Total migrants-Persons|Total migrants-Males|Total migrants-Females|\n",
      "+-----------------------+------------------------+--------------------+----------------------+--------------------+----------------------+\n",
      "|                  Total|                   Total|               Total|             455787621|           146145967|             309641654|\n",
      "|                  Total|                   Total|               Rural|             278203361|            64703974|             213499387|\n",
      "|                  Total|                   Total|               Urban|             177584260|            81441993|              96142267|\n",
      "|   Last residence wi...|                   Total|               Total|             449917418|           143467652|             306449766|\n",
      "|   Last residence wi...|                   Total|               Rural|             275416210|            63588085|             211828125|\n",
      "|   Last residence wi...|                   Total|               Urban|             174501208|            79879567|              94621641|\n",
      "|   Last residence wi...|                   Rural|               Total|             291960709|            72214492|             219746217|\n",
      "|   Last residence wi...|                   Rural|               Rural|             213759232|            36841723|             176917509|\n",
      "|   Last residence wi...|                   Rural|               Urban|              78201477|            35372769|              42828708|\n",
      "|   Last residence wi...|                   Urban|               Total|             105075338|            45334257|              59741081|\n",
      "|   Last residence wi...|                   Urban|               Rural|              26975221|            10137722|              16837499|\n",
      "|   Last residence wi...|                   Urban|               Urban|              78100117|            35196535|              42903582|\n",
      "|   Within the state ...|                   Total|               Total|             395652669|           119597840|             276054829|\n",
      "|   Within the state ...|                   Total|               Rural|             259520960|            59154750|             200366210|\n",
      "|   Within the state ...|                   Total|               Urban|             136131709|            60443090|              75688619|\n",
      "|   Within the state ...|                   Rural|               Total|             260325223|            58461657|             201863566|\n",
      "|   Within the state ...|                   Rural|               Rural|             201739806|            33853422|             167886384|\n",
      "|   Within the state ...|                   Rural|               Urban|              58585417|            24608235|              33977182|\n",
      "|   Within the state ...|                   Urban|               Total|              85378046|            36555762|              48822284|\n",
      "|   Within the state ...|                   Urban|               Rural|              24085918|             9041973|              15043945|\n",
      "+-----------------------+------------------------+--------------------+----------------------+--------------------+----------------------+\n",
      "only showing top 20 rows\n",
      "\n"
     ]
    }
   ],
   "source": [
    "data_df = data_df.drop(\"Area_Name\")\n",
    "data_df.show()"
   ]
  },
  {
   "cell_type": "code",
   "execution_count": 12,
   "id": "fec0ea72-6c43-416d-88b6-9b409c915973",
   "metadata": {},
   "outputs": [
    {
     "name": "stdout",
     "output_type": "stream",
     "text": [
      "+-----------------------+--------------------+---------------------------+-------------------------+---------------------------+\n",
      "|Last_Place_of_residence|Place of enumeration|sum(Total migrants-Persons)|sum(Total migrants-Males)|sum(Total migrants-Females)|\n",
      "+-----------------------+--------------------+---------------------------+-------------------------+---------------------------+\n",
      "|   Andaman & Nicobar...|               Rural|                      13425|                     6053|                       7372|\n",
      "|   Andaman & Nicobar...|               Total|                      38700|                    17540|                      21160|\n",
      "|   Andaman & Nicobar...|               Urban|                      25275|                    11487|                      13788|\n",
      "|         Andhra Pradesh|               Rural|                    1128980|                   302998|                     825982|\n",
      "|         Andhra Pradesh|               Total|                    3919506|                  1610978|                    2308528|\n",
      "|         Andhra Pradesh|               Urban|                    2790526|                  1307980|                    1482546|\n",
      "|      Arunachal Pradesh|               Rural|                      39632|                    16916|                      22716|\n",
      "|      Arunachal Pradesh|               Total|                      72183|                    33846|                      38337|\n",
      "|      Arunachal Pradesh|               Urban|                      32551|                    16930|                      15621|\n",
      "|                  Assam|               Rural|                     543917|                   238605|                     305312|\n",
      "|                  Assam|               Total|                    1281078|                   622176|                     658902|\n",
      "|                  Assam|               Urban|                     737161|                   383571|                     353590|\n",
      "|                  Bihar|               Rural|                    3381337|                  1115566|                    2265771|\n",
      "|                  Bihar|               Total|                   14502551|                  7500141|                    7002410|\n",
      "|                  Bihar|               Urban|                   11121214|                  6384575|                    4736639|\n",
      "|             Chandigarh|               Rural|                      94608|                    41932|                      52676|\n",
      "|             Chandigarh|               Total|                     512233|                   248525|                     263708|\n",
      "|             Chandigarh|               Urban|                     417625|                   206593|                     211032|\n",
      "|           Chhattisgarh|               Rural|                     658512|                   184321|                     474191|\n",
      "|           Chhattisgarh|               Total|                    1350794|                   486340|                     864454|\n",
      "+-----------------------+--------------------+---------------------------+-------------------------+---------------------------+\n",
      "only showing top 20 rows\n",
      "\n"
     ]
    }
   ],
   "source": [
    "gender_migration_summary = data_df.groupBy(\"Last_Place_of_residence\",\"Place of enumeration\") \\\n",
    "                                  .sum(\"Total migrants-Persons\", \"Total migrants-Males\", \"Total migrants-Females\") \\\n",
    "                                  .orderBy(\"Last_Place_of_residence\", \"Place of enumeration\")\n",
    "gender_migration_summary.show()"
   ]
  },
  {
   "cell_type": "code",
   "execution_count": 26,
   "id": "e6a03977-89a3-4870-8140-aef4f5c4b49e",
   "metadata": {},
   "outputs": [
    {
     "name": "stdout",
     "output_type": "stream",
     "text": [
      "Rural Migration:\n",
      "+-----------------------+--------------------+---------------------------+-------------------------+---------------------------+\n",
      "|Last_Place_of_residence|Place of enumeration|sum(Total migrants-Persons)|sum(Total migrants-Males)|sum(Total migrants-Females)|\n",
      "+-----------------------+--------------------+---------------------------+-------------------------+---------------------------+\n",
      "|   Andaman & Nicobar...|               Rural|                      13425|                     6053|                       7372|\n",
      "|         Andhra Pradesh|               Rural|                    1128980|                   302998|                     825982|\n",
      "|      Arunachal Pradesh|               Rural|                      39632|                    16916|                      22716|\n",
      "|                  Assam|               Rural|                     543917|                   238605|                     305312|\n",
      "|                  Bihar|               Rural|                    3381337|                  1115566|                    2265771|\n",
      "|             Chandigarh|               Rural|                      94608|                    41932|                      52676|\n",
      "|           Chhattisgarh|               Rural|                     658512|                   184321|                     474191|\n",
      "|    Countries in Africa|               Rural|                     414812|                    91000|                     323812|\n",
      "|   Countries in Asia...|               Rural|                    4254638|                  1840656|                    2413982|\n",
      "|    Countries in Europe|               Rural|                     101842|                    25560|                      76282|\n",
      "|   Countries in Oceania|               Rural|                     102156|                    27378|                      74778|\n",
      "|   Countries in the ...|               Rural|                     429236|                   148398|                     280838|\n",
      "|   Dadra & Nagar Haveli|               Rural|                      20841|                     3241|                      17600|\n",
      "|            Daman & Diu|               Rural|                      15595|                     4343|                      11252|\n",
      "|   Elsewhere in the ...|               Rural|                  369606934|                 80522738|                  289084196|\n",
      "|                    Goa|               Rural|                      58327|                    22511|                      35816|\n",
      "|                Gujarat|               Rural|                     680407|                   225796|                     454611|\n",
      "|                Haryana|               Rural|                    1764268|                   281850|                    1482418|\n",
      "|       Himachal Pradesh|               Rural|                     309758|                    88343|                     221415|\n",
      "|   In other district...|               Rural|                  115739750|                 21527407|                   94212343|\n",
      "+-----------------------+--------------------+---------------------------+-------------------------+---------------------------+\n",
      "only showing top 20 rows\n",
      "\n",
      "Urban Migration:\n",
      "+-----------------------+--------------------+---------------------------+-------------------------+---------------------------+\n",
      "|Last_Place_of_residence|Place of enumeration|sum(Total migrants-Persons)|sum(Total migrants-Males)|sum(Total migrants-Females)|\n",
      "+-----------------------+--------------------+---------------------------+-------------------------+---------------------------+\n",
      "|   Andaman & Nicobar...|               Urban|                      25275|                    11487|                      13788|\n",
      "|         Andhra Pradesh|               Urban|                    2790526|                  1307980|                    1482546|\n",
      "|      Arunachal Pradesh|               Urban|                      32551|                    16930|                      15621|\n",
      "|                  Assam|               Urban|                     737161|                   383571|                     353590|\n",
      "|                  Bihar|               Urban|                   11121214|                  6384575|                    4736639|\n",
      "|             Chandigarh|               Urban|                     417625|                   206593|                     211032|\n",
      "|           Chhattisgarh|               Urban|                     692282|                   302019|                     390263|\n",
      "|    Countries in Africa|               Urban|                     347912|                   159152|                     188760|\n",
      "|   Countries in Asia...|               Urban|                    4763382|                  2460214|                    2303168|\n",
      "|    Countries in Europe|               Urban|                     111318|                    53232|                      58086|\n",
      "|   Countries in Oceania|               Urban|                      85292|                    40108|                      45184|\n",
      "|   Countries in the ...|               Urban|                     371800|                   181632|                     190168|\n",
      "|   Dadra & Nagar Haveli|               Urban|                      11444|                     5101|                       6343|\n",
      "|            Daman & Diu|               Urban|                      21260|                     8891|                      12369|\n",
      "|   Elsewhere in the ...|               Urban|                  142823087|                 63477107|                   79345980|\n",
      "|                    Goa|               Urban|                     145461|                    62712|                      82749|\n",
      "|                Gujarat|               Urban|                    2371944|                  1104934|                    1267010|\n",
      "|                Haryana|               Urban|                    2758915|                  1128807|                    1630108|\n",
      "|       Himachal Pradesh|               Urban|                     715773|                   351088|                     364685|\n",
      "|   In other district...|               Urban|                  113186167|                 49088007|                   64098160|\n",
      "+-----------------------+--------------------+---------------------------+-------------------------+---------------------------+\n",
      "only showing top 20 rows\n",
      "\n",
      "Total Migration by Last Place of Residence:\n",
      "+-----------------------+---------------------------+-------------------------+---------------------------+\n",
      "|Last_Place_of_residence|sum(Total migrants-Persons)|sum(Total migrants-Males)|sum(Total migrants-Females)|\n",
      "+-----------------------+---------------------------+-------------------------+---------------------------+\n",
      "|   Andaman & Nicobar...|                      38700|                    17540|                      21160|\n",
      "|         Andhra Pradesh|                    3919506|                  1610978|                    2308528|\n",
      "|      Arunachal Pradesh|                      72183|                    33846|                      38337|\n",
      "|                  Assam|                    1281078|                   622176|                     658902|\n",
      "|                  Bihar|                   14502551|                  7500141|                    7002410|\n",
      "|             Chandigarh|                     512233|                   248525|                     263708|\n",
      "|           Chhattisgarh|                    1350794|                   486340|                     864454|\n",
      "|    Countries in Africa|                     762724|                   250152|                     512572|\n",
      "|   Countries in Asia...|                    9018020|                  4300870|                    4717150|\n",
      "|    Countries in Europe|                     213160|                    78792|                     134368|\n",
      "|   Countries in Oceania|                     187448|                    67486|                     119962|\n",
      "|   Countries in the ...|                     801036|                   330030|                     471006|\n",
      "|   Dadra & Nagar Haveli|                      32285|                     8342|                      23943|\n",
      "|            Daman & Diu|                      36855|                    13234|                      23621|\n",
      "|   Elsewhere in the ...|                  512430021|                143999845|                  368430176|\n",
      "|                    Goa|                     203788|                    85223|                     118565|\n",
      "|                Gujarat|                    3052351|                  1330730|                    1721621|\n",
      "|                Haryana|                    4523183|                  1410657|                    3112526|\n",
      "|       Himachal Pradesh|                    1025531|                   439431|                     586100|\n",
      "|   In other district...|                  228925917|                 70615414|                  158310503|\n",
      "+-----------------------+---------------------------+-------------------------+---------------------------+\n",
      "only showing top 20 rows\n",
      "\n"
     ]
    }
   ],
   "source": [
    "# filter for rural areas\n",
    "rural_migration = data_df.filter(data_df[\"Place of enumeration\"].contains(\"Rural\")) \\\n",
    "                        .groupBy(\"Last_Place_of_residence\",\"Place of enumeration\") \\\n",
    "                        .sum(\"Total migrants-Persons\", \"Total migrants-Males\", \"Total migrants-Females\") \\\n",
    "                        .orderBy(\"Last_Place_of_residence\", \"Place of enumeration\")\n",
    "\n",
    "# filter for urban areas\n",
    "urban_migration = data_df.filter(data_df[\"Place of enumeration\"].contains(\"Urban\")) \\\n",
    "                        .groupBy(\"Last_Place_of_residence\",\"Place of enumeration\") \\\n",
    "                        .sum(\"Total migrants-Persons\", \"Total migrants-Males\", \"Total migrants-Females\") \\\n",
    "                        .orderBy(\"Last_Place_of_residence\", \"Place of enumeration\")\n",
    "\n",
    "# For the total (all combined)\n",
    "total_migration = data_df.filter(data_df[\"Place of enumeration\"].contains(\"Total\")).groupBy(\"Last_Place_of_residence\") \\\n",
    "                        .sum(\"Total migrants-Persons\", \"Total migrants-Males\", \"Total migrants-Females\") \\\n",
    "                        .orderBy(\"Last_Place_of_residence\")\n",
    "\n",
    "# Display results\n",
    "print(\"Rural Migration:\")\n",
    "rural_migration.show()\n",
    "\n",
    "print(\"Urban Migration:\")\n",
    "urban_migration.show()\n",
    "\n",
    "print(\"Total Migration by Last Place of Residence:\")\n",
    "total_migration.show()"
   ]
  },
  {
   "cell_type": "code",
   "execution_count": 29,
   "id": "6161e57b-e2e9-428e-bdcf-1bc6aa0e4264",
   "metadata": {},
   "outputs": [
    {
     "name": "stdout",
     "output_type": "stream",
     "text": [
      "+-----------------------+-------------------------+\n",
      "|Last_Place_of_residence|sum(Total migrants-Males)|\n",
      "+-----------------------+-------------------------+\n",
      "|   Andaman & Nicobar...|                    17540|\n",
      "|         Andhra Pradesh|                  1610978|\n",
      "|      Arunachal Pradesh|                    33846|\n",
      "|                  Assam|                   622176|\n",
      "|                  Bihar|                  7500141|\n",
      "|             Chandigarh|                   248525|\n",
      "|           Chhattisgarh|                   486340|\n",
      "|    Countries in Africa|                   250152|\n",
      "|   Countries in Asia...|                  4300870|\n",
      "|    Countries in Europe|                    78792|\n",
      "|   Countries in Oceania|                    67486|\n",
      "|   Countries in the ...|                   330030|\n",
      "|   Dadra & Nagar Haveli|                     8342|\n",
      "|            Daman & Diu|                    13234|\n",
      "|   Elsewhere in the ...|                143999845|\n",
      "|                    Goa|                    85223|\n",
      "|                Gujarat|                  1330730|\n",
      "|                Haryana|                  1410657|\n",
      "|       Himachal Pradesh|                   439431|\n",
      "|   In other district...|                 70615414|\n",
      "+-----------------------+-------------------------+\n",
      "only showing top 20 rows\n",
      "\n"
     ]
    }
   ],
   "source": [
    "Male_migration = data_df.filter(data_df[\"Place of enumeration\"].contains(\"Total\")).groupBy(\"Last_Place_of_residence\") \\\n",
    "                        .sum(\"Total migrants-Males\") \\\n",
    "                        .orderBy(\"Last_Place_of_residence\")\n",
    "\n",
    "Male_migration.show()"
   ]
  },
  {
   "cell_type": "code",
   "execution_count": 30,
   "id": "09926dee-4cf3-4a78-ba7c-04bb3084ca5c",
   "metadata": {},
   "outputs": [
    {
     "name": "stdout",
     "output_type": "stream",
     "text": [
      "+-----------------------+---------------------------+\n",
      "|Last_Place_of_residence|sum(Total migrants-Females)|\n",
      "+-----------------------+---------------------------+\n",
      "|   Andaman & Nicobar...|                      21160|\n",
      "|         Andhra Pradesh|                    2308528|\n",
      "|      Arunachal Pradesh|                      38337|\n",
      "|                  Assam|                     658902|\n",
      "|                  Bihar|                    7002410|\n",
      "|             Chandigarh|                     263708|\n",
      "|           Chhattisgarh|                     864454|\n",
      "|    Countries in Africa|                     512572|\n",
      "|   Countries in Asia...|                    4717150|\n",
      "|    Countries in Europe|                     134368|\n",
      "|   Countries in Oceania|                     119962|\n",
      "|   Countries in the ...|                     471006|\n",
      "|   Dadra & Nagar Haveli|                      23943|\n",
      "|            Daman & Diu|                      23621|\n",
      "|   Elsewhere in the ...|                  368430176|\n",
      "|                    Goa|                     118565|\n",
      "|                Gujarat|                    1721621|\n",
      "|                Haryana|                    3112526|\n",
      "|       Himachal Pradesh|                     586100|\n",
      "|   In other district...|                  158310503|\n",
      "+-----------------------+---------------------------+\n",
      "only showing top 20 rows\n",
      "\n"
     ]
    }
   ],
   "source": [
    "Female_migration = data_df.filter(data_df[\"Place of enumeration\"].contains(\"Total\")).groupBy(\"Last_Place_of_residence\") \\\n",
    "                        .sum(\"Total migrants-Females\") \\\n",
    "                        .orderBy(\"Last_Place_of_residence\")\n",
    "\n",
    "Female_migration.show()"
   ]
  },
  {
   "cell_type": "code",
   "execution_count": 37,
   "id": "1fd3bce5-f9d8-4760-8c1d-4976899b1e9c",
   "metadata": {},
   "outputs": [],
   "source": [
    "# Convert to Pandas for visualization\n",
    "rural_pd = rural_migration.toPandas()\n",
    "urban_pd = urban_migration.toPandas()\n",
    "total_pd = total_migration.toPandas()\n",
    "female_pd = Female_migration.toPandas()\n",
    "male_pd = Male_migration.toPandas()\n",
    "filtered_geo_pd = filtered_geo_df.toPandas()"
   ]
  },
  {
   "cell_type": "code",
   "execution_count": 32,
   "id": "d2ae9398-f480-411f-8b6e-92ab46bcbaff",
   "metadata": {},
   "outputs": [],
   "source": [
    "# Save to CSV\n",
    "rural_pd.to_csv(\"rural_migration.csv\", index=False)\n",
    "urban_pd.to_csv(\"urban_migration.csv\", index=False)\n",
    "total_pd.to_csv(\"total_migration.csv\", index=False)\n",
    "female_pd.to_csv(\"female_migration.csv\", index=False)\n",
    "male_pd.to_csv(\"male_migration.csv\", index=False)\n"
   ]
  },
  {
   "cell_type": "code",
   "execution_count": 36,
   "id": "68f4aa77-5f44-44c6-b180-94867e8b6fee",
   "metadata": {},
   "outputs": [
    {
     "name": "stdout",
     "output_type": "stream",
     "text": [
      "+-----------------------+---------------------------+-------------------------+---------------------------+\n",
      "|Last_Place_of_residence|sum(Total migrants-Persons)|sum(Total migrants-Males)|sum(Total migrants-Females)|\n",
      "+-----------------------+---------------------------+-------------------------+---------------------------+\n",
      "|         Andhra Pradesh|                    3919506|                  1610978|                    2308528|\n",
      "|      Arunachal Pradesh|                      72183|                    33846|                      38337|\n",
      "|                  Assam|                    1281078|                   622176|                     658902|\n",
      "|                  Bihar|                   14502551|                  7500141|                    7002410|\n",
      "|           Chhattisgarh|                    1350794|                   486340|                     864454|\n",
      "|                    Goa|                     203788|                    85223|                     118565|\n",
      "|                Gujarat|                    3052351|                  1330730|                    1721621|\n",
      "|                Haryana|                    4523183|                  1410657|                    3112526|\n",
      "|       Himachal Pradesh|                    1025531|                   439431|                     586100|\n",
      "|        Jammu & Kashmir|                     585039|                   285595|                     299444|\n",
      "|              Jharkhand|                    3326718|                  1112911|                    2213807|\n",
      "|              Karnataka|                    4843025|                  1906695|                    2936330|\n",
      "|                 Kerala|                    2496840|                  1151888|                    1344952|\n",
      "|         Madhya Pradesh|                    5813910|                  1943356|                    3870554|\n",
      "|            Maharashtra|                    5959342|                  2352379|                    3606963|\n",
      "|                Manipur|                     146207|                    72162|                      74045|\n",
      "|              Meghalaya|                     137217|                    59355|                      77862|\n",
      "|                Mizoram|                      59020|                    28791|                      30229|\n",
      "|               Nagaland|                      88755|                    40773|                      47982|\n",
      "|                 Odisha|                    2469568|                  1165230|                    1304338|\n",
      "+-----------------------+---------------------------+-------------------------+---------------------------+\n",
      "only showing top 20 rows\n",
      "\n"
     ]
    }
   ],
   "source": [
    "valid_states = [\n",
    "    \"Andhra Pradesh\", \"Arunachal Pradesh\", \"Assam\", \"Bihar\", \"Chhattisgarh\",\n",
    "    \"Goa\", \"Gujarat\", \"Haryana\", \"Himachal Pradesh\", \"Jammu & Kashmir\",\n",
    "    \"Jharkhand\", \"Karnataka\", \"Kerala\", \"Madhya Pradesh\", \"Maharashtra\",\n",
    "    \"Manipur\", \"Meghalaya\", \"Mizoram\", \"Nagaland\", \"Odisha\", \"Punjab\",\n",
    "    \"Rajasthan\", \"Sikkim\", \"Tamil Nadu\", \"Telangana\", \"Tripura\",\n",
    "    \"Uttar Pradesh\", \"Uttarakhand\", \"West Bengal\", \"Delhi\"\n",
    "]\n",
    "\n",
    "# Filter valid states only\n",
    "filtered_geo_df = total_migration.filter(total_migration[\"Last_Place_of_residence\"].isin(valid_states))\n",
    "\n",
    "filtered_geo_df.show()"
   ]
  },
  {
   "cell_type": "code",
   "execution_count": 38,
   "id": "499d8dc2-79ea-4299-9af1-6dd9f6e0ef37",
   "metadata": {},
   "outputs": [],
   "source": [
    "filtered_geo_pd.to_csv(\"filtered_geo.csv\", index=False)"
   ]
  }
 ],
 "metadata": {
  "kernelspec": {
   "display_name": "pyspark-env",
   "language": "python",
   "name": "pyspark-env"
  },
  "language_info": {
   "codemirror_mode": {
    "name": "ipython",
    "version": 3
   },
   "file_extension": ".py",
   "mimetype": "text/x-python",
   "name": "python",
   "nbconvert_exporter": "python",
   "pygments_lexer": "ipython3",
   "version": "3.10.16"
  }
 },
 "nbformat": 4,
 "nbformat_minor": 5
}
