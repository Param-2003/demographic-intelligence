{
 "cells": [
  {
   "cell_type": "code",
   "execution_count": 2,
   "id": "e6ab5436-101a-496a-a400-e0a2dfb40630",
   "metadata": {},
   "outputs": [],
   "source": [
    "import os\n",
    "import sys\n",
    "\n",
    "os.environ[\"HADOOP_HOME\"] = \"C:\\\\hadoop\"\n",
    "os.environ[\"PATH\"] += os.pathsep + \"C:\\\\hadoop\\\\bin\"\n",
    "\n",
    "# Set python executable path\n",
    "os.environ[\"PYSPARK_PYTHON\"] = sys.executable\n",
    "os.environ[\"PYSPARK_DRIVER_PYTHON\"] = sys.executable"
   ]
  },
  {
   "cell_type": "code",
   "execution_count": 16,
   "id": "7100bc58-41fc-497f-9160-d08d6e51a057",
   "metadata": {},
   "outputs": [],
   "source": [
    "import pandas as pd\n",
    "import seaborn as sns\n",
    "import matplotlib.pyplot as plt\n",
    "from pyspark.sql import SparkSession\n",
    "from pyspark.sql.functions import col, month, when\n",
    "from pyspark.sql.types import StructType , StructField , StringType , IntegerType , FloatType"
   ]
  },
  {
   "cell_type": "code",
   "execution_count": 4,
   "id": "09be6c74-c539-47e1-a31e-fc8940e0b328",
   "metadata": {},
   "outputs": [],
   "source": [
    "spark = SparkSession.builder.appName(\"Migration-project\").getOrCreate()"
   ]
  },
  {
   "cell_type": "code",
   "execution_count": 5,
   "id": "192a2b24-ec50-4fd6-96e7-8b3257114a36",
   "metadata": {},
   "outputs": [
    {
     "data": {
      "text/html": [
       "\n",
       "            <div>\n",
       "                <p><b>SparkSession - in-memory</b></p>\n",
       "                \n",
       "        <div>\n",
       "            <p><b>SparkContext</b></p>\n",
       "\n",
       "            <p><a href=\"http://host.docker.internal:4040\">Spark UI</a></p>\n",
       "\n",
       "            <dl>\n",
       "              <dt>Version</dt>\n",
       "                <dd><code>v3.5.1</code></dd>\n",
       "              <dt>Master</dt>\n",
       "                <dd><code>local[*]</code></dd>\n",
       "              <dt>AppName</dt>\n",
       "                <dd><code>Migration-project</code></dd>\n",
       "            </dl>\n",
       "        </div>\n",
       "        \n",
       "            </div>\n",
       "        "
      ],
      "text/plain": [
       "<pyspark.sql.session.SparkSession at 0x2ac8c739690>"
      ]
     },
     "execution_count": 5,
     "metadata": {},
     "output_type": "execute_result"
    }
   ],
   "source": [
    "spark"
   ]
  },
  {
   "cell_type": "code",
   "execution_count": 39,
   "id": "f5e76daa-8c9c-43d7-8096-6d9ba6c9a0f5",
   "metadata": {},
   "outputs": [],
   "source": [
    "Migration_data = (\"indiaSummary.csv\")"
   ]
  },
  {
   "cell_type": "code",
   "execution_count": 41,
   "id": "257a05f0-e93d-45a1-83a5-0be53e24dc7e",
   "metadata": {},
   "outputs": [
    {
     "name": "stdout",
     "output_type": "stream",
     "text": [
      "+----------+-----+--------+---------+--------------------+---------------+--------------------+----------------------+--------------------+----------------------+--------------------------+------------------------+--------------------------+----------------------------+--------------------------+----------------------------+---------------------------+--------------------------+----------------------------+------------------------------+----------------------------+------------------------------+---------------------------+--------------------+----------------------------+-----------------------------+---------------------------+-----------------------------+\n",
      "|Table name|State|District|Area Name|     Last residence4|Last residence5|Place of enumeration|Total migrants-Persons|Total migrants-Males|Total migrants-Females|Duration (<1 year)-Persons|Duration (<1 year)-Males|Duration (<1 year)-Females|Duration (1-4 years)-Persons|Duration (1-4 years)-Males|Duration (1-4 years)-Females|Duration(5-9 years)-Persons|Duration (5-9 years)-Males|Duration (5-9 years)-Females|Duration (10-19 years)-Persons|Duration (10-19 years)-Males|Duration (10-19 years)-Females|Duration(20+ years)-Persons|Duration (20+) Males|Duration (20+ years)-Females|Duration (not stated)-Persons|Duration (not stated)-Males|Duration (not stated)-Females|\n",
      "+----------+-----+--------+---------+--------------------+---------------+--------------------+----------------------+--------------------+----------------------+--------------------------+------------------------+--------------------------+----------------------------+--------------------------+----------------------------+---------------------------+--------------------------+----------------------------+------------------------------+----------------------------+------------------------------+---------------------------+--------------------+----------------------------+-----------------------------+---------------------------+-----------------------------+\n",
      "|     D0302|    0|       0|    INDIA|               Total|          Total|               Total|             455787621|           146145967|             309641654|                  17586044|                 7805017|                   9781027|                    63893251|                  21283776|                    42609475|                   60428975|                  18425569|                    42003406|                      94713188|                    25979400|                      68733788|                  146421501|            35148111|                   111273390|                     72744662|                   37504094|                     35240568|\n",
      "|     D0302|    0|       0|    INDIA|               Total|          Total|               Rural|             278203361|            64703974|             213499387|                   9786106|                 3916525|                   5869581|                    34944291|                   8139533|                    26804758|                   34511589|                   6876803|                    27634786|                      57728193|                     9894435|                      47833758|                   98989422|            14186384|                    84803038|                     42243760|                   21690294|                     20553466|\n",
      "|     D0302|    0|       0|    INDIA|               Total|          Total|               Urban|             177584260|            81441993|              96142267|                   7799938|                 3888492|                   3911446|                    28948960|                  13144243|                    15804717|                   25917386|                  11548766|                    14368620|                      36984995|                    16084965|                      20900030|                   47432079|            20961727|                    26470352|                     30500902|                   15813800|                     14687102|\n",
      "|     D0302|    0|       0|    INDIA|Last residence wi...|          Total|               Total|             449917418|           143467652|             306449766|                  17366706|                 7676760|                   9689946|                    63340666|                  21044225|                    42296441|                   59953065|                  18239698|                    41713367|                      93880994|                    25665354|                      68215640|                  143269910|            33680536|                   109589374|                     72106077|                   37161079|                     34944998|\n",
      "|     D0302|    0|       0|    INDIA|Last residence wi...|          Total|               Rural|             275416210|            63588085|             211828125|                   9685689|                 3856920|                   5828769|                    34716308|                   8063533|                    26652775|                   34294890|                   6816901|                    27477989|                      57311368|                     9778290|                      47533078|                   97476022|            13554521|                    83921501|                     41931933|                   21517920|                     20414013|\n",
      "+----------+-----+--------+---------+--------------------+---------------+--------------------+----------------------+--------------------+----------------------+--------------------------+------------------------+--------------------------+----------------------------+--------------------------+----------------------------+---------------------------+--------------------------+----------------------------+------------------------------+----------------------------+------------------------------+---------------------------+--------------------+----------------------------+-----------------------------+---------------------------+-----------------------------+\n",
      "only showing top 5 rows\n",
      "\n",
      "root\n",
      " |-- Table name: string (nullable = true)\n",
      " |-- State: integer (nullable = true)\n",
      " |-- District: integer (nullable = true)\n",
      " |-- Area Name: string (nullable = true)\n",
      " |-- Last residence4: string (nullable = true)\n",
      " |-- Last residence5: string (nullable = true)\n",
      " |-- Place of enumeration: string (nullable = true)\n",
      " |-- Total migrants-Persons: integer (nullable = true)\n",
      " |-- Total migrants-Males: integer (nullable = true)\n",
      " |-- Total migrants-Females: integer (nullable = true)\n",
      " |-- Duration (<1 year)-Persons: integer (nullable = true)\n",
      " |-- Duration (<1 year)-Males: integer (nullable = true)\n",
      " |-- Duration (<1 year)-Females: integer (nullable = true)\n",
      " |-- Duration (1-4 years)-Persons: integer (nullable = true)\n",
      " |-- Duration (1-4 years)-Males: integer (nullable = true)\n",
      " |-- Duration (1-4 years)-Females: integer (nullable = true)\n",
      " |-- Duration(5-9 years)-Persons: integer (nullable = true)\n",
      " |-- Duration (5-9 years)-Males: integer (nullable = true)\n",
      " |-- Duration (5-9 years)-Females: integer (nullable = true)\n",
      " |-- Duration (10-19 years)-Persons: integer (nullable = true)\n",
      " |-- Duration (10-19 years)-Males: integer (nullable = true)\n",
      " |-- Duration (10-19 years)-Females: integer (nullable = true)\n",
      " |-- Duration(20+ years)-Persons: integer (nullable = true)\n",
      " |-- Duration (20+) Males: integer (nullable = true)\n",
      " |-- Duration (20+ years)-Females: integer (nullable = true)\n",
      " |-- Duration (not stated)-Persons: integer (nullable = true)\n",
      " |-- Duration (not stated)-Males: integer (nullable = true)\n",
      " |-- Duration (not stated)-Females: integer (nullable = true)\n",
      "\n"
     ]
    }
   ],
   "source": [
    "Migration_df = spark.read.csv(Migration_data,header = True,inferSchema = True)\n",
    "Migration_df.show(5)\n",
    "Migration_df.printSchema()"
   ]
  },
  {
   "cell_type": "code",
   "execution_count": 47,
   "id": "995940fd-feba-420a-aecb-fa75e4d71aa0",
   "metadata": {},
   "outputs": [
    {
     "name": "stdout",
     "output_type": "stream",
     "text": [
      "+---------+--------------------+---------------+--------------------+----------------------+--------------------+----------------------+\n",
      "|Area Name|     Last residence4|Last residence5|Place of enumeration|Total migrants-Persons|Total migrants-Males|Total migrants-Females|\n",
      "+---------+--------------------+---------------+--------------------+----------------------+--------------------+----------------------+\n",
      "|    INDIA|               Total|          Total|               Total|             455787621|           146145967|             309641654|\n",
      "|    INDIA|               Total|          Total|               Rural|             278203361|            64703974|             213499387|\n",
      "|    INDIA|               Total|          Total|               Urban|             177584260|            81441993|              96142267|\n",
      "|    INDIA|Last residence wi...|          Total|               Total|             449917418|           143467652|             306449766|\n",
      "|    INDIA|Last residence wi...|          Total|               Rural|             275416210|            63588085|             211828125|\n",
      "|    INDIA|Last residence wi...|          Total|               Urban|             174501208|            79879567|              94621641|\n",
      "|    INDIA|Last residence wi...|          Rural|               Total|             291960709|            72214492|             219746217|\n",
      "|    INDIA|Last residence wi...|          Rural|               Rural|             213759232|            36841723|             176917509|\n",
      "|    INDIA|Last residence wi...|          Rural|               Urban|              78201477|            35372769|              42828708|\n",
      "|    INDIA|Last residence wi...|          Urban|               Total|             105075338|            45334257|              59741081|\n",
      "+---------+--------------------+---------------+--------------------+----------------------+--------------------+----------------------+\n",
      "only showing top 10 rows\n",
      "\n",
      "root\n",
      " |-- Area Name: string (nullable = true)\n",
      " |-- Last residence4: string (nullable = true)\n",
      " |-- Last residence5: string (nullable = true)\n",
      " |-- Place of enumeration: string (nullable = true)\n",
      " |-- Total migrants-Persons: integer (nullable = true)\n",
      " |-- Total migrants-Males: integer (nullable = true)\n",
      " |-- Total migrants-Females: integer (nullable = true)\n",
      "\n"
     ]
    }
   ],
   "source": [
    "duration_columns_to_remove = [\n",
    "    \"Duration (<1 year)-Persons\", \n",
    "    \"Duration (<1 year)-Males\",\n",
    "    \"Duration (<1 year)-Females\",\n",
    "    \"Duration (1-4 years)-Persons\",\n",
    "    \"Duration (1-4 years)-Males\",\n",
    "    \"Duration (1-4 years)-Females\",\n",
    "    \"Duration(5-9 years)-Persons\",\n",
    "    \"Duration (5-9 years)-Males\",\n",
    "    \"Duration (5-9 years)-Females\",\n",
    "    \"Duration (10-19 years)-Persons\",\n",
    "    \"Duration (10-19 years)-Males\",\n",
    "    \"Duration (10-19 years)-Females\",\n",
    "    \"Duration(20+ years)-Persons\",\n",
    "    \"Duration (20+) Males\",\n",
    "    \"Duration (20+ years)-Females\",\n",
    "    \"Duration (not stated)-Persons\",\n",
    "    \"Duration (not stated)-Males\",\n",
    "    \"Table name\",\n",
    "    \"State\",\n",
    "    \"District\",\n",
    "    \"Duration (not stated)-Females\"\n",
    "]\n",
    "data_df = Migration_df.drop(*duration_columns_to_remove)\n",
    "data_df.show(10)\n",
    "data_df.printSchema()"
   ]
  },
  {
   "cell_type": "code",
   "execution_count": null,
   "id": "ace3b064-3319-428d-b4d8-427ba87782a5",
   "metadata": {},
   "outputs": [],
   "source": []
  }
 ],
 "metadata": {
  "kernelspec": {
   "display_name": "pyspark-env",
   "language": "python",
   "name": "pyspark-env"
  },
  "language_info": {
   "codemirror_mode": {
    "name": "ipython",
    "version": 3
   },
   "file_extension": ".py",
   "mimetype": "text/x-python",
   "name": "python",
   "nbconvert_exporter": "python",
   "pygments_lexer": "ipython3",
   "version": "3.10.16"
  }
 },
 "nbformat": 4,
 "nbformat_minor": 5
}
